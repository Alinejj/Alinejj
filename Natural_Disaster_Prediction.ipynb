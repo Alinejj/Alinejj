{
  "cells": [
    {
      "cell_type": "markdown",
      "metadata": {
        "id": "view-in-github",
        "colab_type": "text"
      },
      "source": [
        "<a href=\"https://colab.research.google.com/github/Alinejj/Alinejj/blob/main/Natural_Disaster_Prediction.ipynb\" target=\"_parent\"><img src=\"https://colab.research.google.com/assets/colab-badge.svg\" alt=\"Open In Colab\"/></a>"
      ]
    },
    {
      "cell_type": "code",
      "execution_count": 91,
      "metadata": {
        "id": "tDuoogxJi_Qe"
      },
      "outputs": [],
      "source": [
        "import numpy as np\n",
        "import pandas as pd\n",
        "from sklearn.preprocessing import StandardScaler\n",
        "from sklearn.model_selection import train_test_split\n",
        "from sklearn import svm\n",
        "from sklearn.svm import SVC\n",
        "from sklearn.metrics import accuracy_score\n",
        "from sklearn.impute import KNNImputer\n",
        "import plotly.express as px\n",
        "import folium\n",
        "from xgboost import XGBClassifier\n",
        "from sklearn.model_selection import cross_val_score\n",
        "from keras.models import Sequential\n",
        "from keras.layers import LSTM, Dense, Dropout\n",
        "import requests\n",
        "from sklearn.impute import SimpleImputer\n",
        "from sklearn.preprocessing import LabelEncoder\n",
        "import copy\n",
        "import matplotlib.pyplot as plt\n",
        "import seaborn as sns\n",
        "from sklearn.metrics import mean_squared_error"
      ]
    },
    {
      "cell_type": "code",
      "execution_count": 6,
      "metadata": {
        "id": "mk7wUrQEjIUD"
      },
      "outputs": [],
      "source": [
        "#loading natural disaster dataset\n",
        "disasters_dataset = pd.read_csv('/content/natural_disaster.csv')"
      ]
    },
    {
      "cell_type": "code",
      "execution_count": 7,
      "metadata": {
        "colab": {
          "base_uri": "https://localhost:8080/",
          "height": 377
        },
        "id": "Y9QqGEBEpDwZ",
        "outputId": "4e4b65a3-31bb-476d-cdf1-e5ba24af255f"
      },
      "outputs": [
        {
          "output_type": "execute_result",
          "data": {
            "text/plain": [
              "   Year   Seq Glide Disaster Group Disaster Subgroup      Disaster Type  \\\n",
              "0  1900  9002   NaN        Natural    Climatological            Drought   \n",
              "1  1900  9001   NaN        Natural    Climatological            Drought   \n",
              "2  1902    12   NaN        Natural       Geophysical         Earthquake   \n",
              "3  1902     3   NaN        Natural       Geophysical  Volcanic activity   \n",
              "4  1902    10   NaN        Natural       Geophysical  Volcanic activity   \n",
              "\n",
              "  Disaster Subtype Disaster Subsubtype   Event Name     Country  ...  \\\n",
              "0          Drought                 NaN          NaN  Cabo Verde  ...   \n",
              "1          Drought                 NaN          NaN       India  ...   \n",
              "2  Ground movement                 NaN          NaN   Guatemala  ...   \n",
              "3         Ash fall                 NaN  Santa Maria   Guatemala  ...   \n",
              "4         Ash fall                 NaN  Santa Maria   Guatemala  ...   \n",
              "\n",
              "  No Affected No Homeless Total Affected Insured Damages ('000 US$)  \\\n",
              "0         NaN         NaN            NaN                        NaN   \n",
              "1         NaN         NaN            NaN                        NaN   \n",
              "2         NaN         NaN            NaN                        NaN   \n",
              "3         NaN         NaN            NaN                        NaN   \n",
              "4         NaN         NaN            NaN                        NaN   \n",
              "\n",
              "  Total Damages ('000 US$)       CPI Adm Level Admin1 Code Admin2 Code  \\\n",
              "0                      NaN  3.221647       NaN         NaN         NaN   \n",
              "1                      NaN  3.221647       NaN         NaN         NaN   \n",
              "2                  25000.0  3.350513       NaN         NaN         NaN   \n",
              "3                      NaN  3.350513       NaN         NaN         NaN   \n",
              "4                      NaN  3.350513       NaN         NaN         NaN   \n",
              "\n",
              "  Geo Locations  \n",
              "0           NaN  \n",
              "1           NaN  \n",
              "2           NaN  \n",
              "3           NaN  \n",
              "4           NaN  \n",
              "\n",
              "[5 rows x 45 columns]"
            ],
            "text/html": [
              "\n",
              "  <div id=\"df-2dc17e72-3f6d-45b3-897d-3a30a68349ef\" class=\"colab-df-container\">\n",
              "    <div>\n",
              "<style scoped>\n",
              "    .dataframe tbody tr th:only-of-type {\n",
              "        vertical-align: middle;\n",
              "    }\n",
              "\n",
              "    .dataframe tbody tr th {\n",
              "        vertical-align: top;\n",
              "    }\n",
              "\n",
              "    .dataframe thead th {\n",
              "        text-align: right;\n",
              "    }\n",
              "</style>\n",
              "<table border=\"1\" class=\"dataframe\">\n",
              "  <thead>\n",
              "    <tr style=\"text-align: right;\">\n",
              "      <th></th>\n",
              "      <th>Year</th>\n",
              "      <th>Seq</th>\n",
              "      <th>Glide</th>\n",
              "      <th>Disaster Group</th>\n",
              "      <th>Disaster Subgroup</th>\n",
              "      <th>Disaster Type</th>\n",
              "      <th>Disaster Subtype</th>\n",
              "      <th>Disaster Subsubtype</th>\n",
              "      <th>Event Name</th>\n",
              "      <th>Country</th>\n",
              "      <th>...</th>\n",
              "      <th>No Affected</th>\n",
              "      <th>No Homeless</th>\n",
              "      <th>Total Affected</th>\n",
              "      <th>Insured Damages ('000 US$)</th>\n",
              "      <th>Total Damages ('000 US$)</th>\n",
              "      <th>CPI</th>\n",
              "      <th>Adm Level</th>\n",
              "      <th>Admin1 Code</th>\n",
              "      <th>Admin2 Code</th>\n",
              "      <th>Geo Locations</th>\n",
              "    </tr>\n",
              "  </thead>\n",
              "  <tbody>\n",
              "    <tr>\n",
              "      <th>0</th>\n",
              "      <td>1900</td>\n",
              "      <td>9002</td>\n",
              "      <td>NaN</td>\n",
              "      <td>Natural</td>\n",
              "      <td>Climatological</td>\n",
              "      <td>Drought</td>\n",
              "      <td>Drought</td>\n",
              "      <td>NaN</td>\n",
              "      <td>NaN</td>\n",
              "      <td>Cabo Verde</td>\n",
              "      <td>...</td>\n",
              "      <td>NaN</td>\n",
              "      <td>NaN</td>\n",
              "      <td>NaN</td>\n",
              "      <td>NaN</td>\n",
              "      <td>NaN</td>\n",
              "      <td>3.221647</td>\n",
              "      <td>NaN</td>\n",
              "      <td>NaN</td>\n",
              "      <td>NaN</td>\n",
              "      <td>NaN</td>\n",
              "    </tr>\n",
              "    <tr>\n",
              "      <th>1</th>\n",
              "      <td>1900</td>\n",
              "      <td>9001</td>\n",
              "      <td>NaN</td>\n",
              "      <td>Natural</td>\n",
              "      <td>Climatological</td>\n",
              "      <td>Drought</td>\n",
              "      <td>Drought</td>\n",
              "      <td>NaN</td>\n",
              "      <td>NaN</td>\n",
              "      <td>India</td>\n",
              "      <td>...</td>\n",
              "      <td>NaN</td>\n",
              "      <td>NaN</td>\n",
              "      <td>NaN</td>\n",
              "      <td>NaN</td>\n",
              "      <td>NaN</td>\n",
              "      <td>3.221647</td>\n",
              "      <td>NaN</td>\n",
              "      <td>NaN</td>\n",
              "      <td>NaN</td>\n",
              "      <td>NaN</td>\n",
              "    </tr>\n",
              "    <tr>\n",
              "      <th>2</th>\n",
              "      <td>1902</td>\n",
              "      <td>12</td>\n",
              "      <td>NaN</td>\n",
              "      <td>Natural</td>\n",
              "      <td>Geophysical</td>\n",
              "      <td>Earthquake</td>\n",
              "      <td>Ground movement</td>\n",
              "      <td>NaN</td>\n",
              "      <td>NaN</td>\n",
              "      <td>Guatemala</td>\n",
              "      <td>...</td>\n",
              "      <td>NaN</td>\n",
              "      <td>NaN</td>\n",
              "      <td>NaN</td>\n",
              "      <td>NaN</td>\n",
              "      <td>25000.0</td>\n",
              "      <td>3.350513</td>\n",
              "      <td>NaN</td>\n",
              "      <td>NaN</td>\n",
              "      <td>NaN</td>\n",
              "      <td>NaN</td>\n",
              "    </tr>\n",
              "    <tr>\n",
              "      <th>3</th>\n",
              "      <td>1902</td>\n",
              "      <td>3</td>\n",
              "      <td>NaN</td>\n",
              "      <td>Natural</td>\n",
              "      <td>Geophysical</td>\n",
              "      <td>Volcanic activity</td>\n",
              "      <td>Ash fall</td>\n",
              "      <td>NaN</td>\n",
              "      <td>Santa Maria</td>\n",
              "      <td>Guatemala</td>\n",
              "      <td>...</td>\n",
              "      <td>NaN</td>\n",
              "      <td>NaN</td>\n",
              "      <td>NaN</td>\n",
              "      <td>NaN</td>\n",
              "      <td>NaN</td>\n",
              "      <td>3.350513</td>\n",
              "      <td>NaN</td>\n",
              "      <td>NaN</td>\n",
              "      <td>NaN</td>\n",
              "      <td>NaN</td>\n",
              "    </tr>\n",
              "    <tr>\n",
              "      <th>4</th>\n",
              "      <td>1902</td>\n",
              "      <td>10</td>\n",
              "      <td>NaN</td>\n",
              "      <td>Natural</td>\n",
              "      <td>Geophysical</td>\n",
              "      <td>Volcanic activity</td>\n",
              "      <td>Ash fall</td>\n",
              "      <td>NaN</td>\n",
              "      <td>Santa Maria</td>\n",
              "      <td>Guatemala</td>\n",
              "      <td>...</td>\n",
              "      <td>NaN</td>\n",
              "      <td>NaN</td>\n",
              "      <td>NaN</td>\n",
              "      <td>NaN</td>\n",
              "      <td>NaN</td>\n",
              "      <td>3.350513</td>\n",
              "      <td>NaN</td>\n",
              "      <td>NaN</td>\n",
              "      <td>NaN</td>\n",
              "      <td>NaN</td>\n",
              "    </tr>\n",
              "  </tbody>\n",
              "</table>\n",
              "<p>5 rows × 45 columns</p>\n",
              "</div>\n",
              "    <div class=\"colab-df-buttons\">\n",
              "\n",
              "  <div class=\"colab-df-container\">\n",
              "    <button class=\"colab-df-convert\" onclick=\"convertToInteractive('df-2dc17e72-3f6d-45b3-897d-3a30a68349ef')\"\n",
              "            title=\"Convert this dataframe to an interactive table.\"\n",
              "            style=\"display:none;\">\n",
              "\n",
              "  <svg xmlns=\"http://www.w3.org/2000/svg\" height=\"24px\" viewBox=\"0 -960 960 960\">\n",
              "    <path d=\"M120-120v-720h720v720H120Zm60-500h600v-160H180v160Zm220 220h160v-160H400v160Zm0 220h160v-160H400v160ZM180-400h160v-160H180v160Zm440 0h160v-160H620v160ZM180-180h160v-160H180v160Zm440 0h160v-160H620v160Z\"/>\n",
              "  </svg>\n",
              "    </button>\n",
              "\n",
              "  <style>\n",
              "    .colab-df-container {\n",
              "      display:flex;\n",
              "      gap: 12px;\n",
              "    }\n",
              "\n",
              "    .colab-df-convert {\n",
              "      background-color: #E8F0FE;\n",
              "      border: none;\n",
              "      border-radius: 50%;\n",
              "      cursor: pointer;\n",
              "      display: none;\n",
              "      fill: #1967D2;\n",
              "      height: 32px;\n",
              "      padding: 0 0 0 0;\n",
              "      width: 32px;\n",
              "    }\n",
              "\n",
              "    .colab-df-convert:hover {\n",
              "      background-color: #E2EBFA;\n",
              "      box-shadow: 0px 1px 2px rgba(60, 64, 67, 0.3), 0px 1px 3px 1px rgba(60, 64, 67, 0.15);\n",
              "      fill: #174EA6;\n",
              "    }\n",
              "\n",
              "    .colab-df-buttons div {\n",
              "      margin-bottom: 4px;\n",
              "    }\n",
              "\n",
              "    [theme=dark] .colab-df-convert {\n",
              "      background-color: #3B4455;\n",
              "      fill: #D2E3FC;\n",
              "    }\n",
              "\n",
              "    [theme=dark] .colab-df-convert:hover {\n",
              "      background-color: #434B5C;\n",
              "      box-shadow: 0px 1px 3px 1px rgba(0, 0, 0, 0.15);\n",
              "      filter: drop-shadow(0px 1px 2px rgba(0, 0, 0, 0.3));\n",
              "      fill: #FFFFFF;\n",
              "    }\n",
              "  </style>\n",
              "\n",
              "    <script>\n",
              "      const buttonEl =\n",
              "        document.querySelector('#df-2dc17e72-3f6d-45b3-897d-3a30a68349ef button.colab-df-convert');\n",
              "      buttonEl.style.display =\n",
              "        google.colab.kernel.accessAllowed ? 'block' : 'none';\n",
              "\n",
              "      async function convertToInteractive(key) {\n",
              "        const element = document.querySelector('#df-2dc17e72-3f6d-45b3-897d-3a30a68349ef');\n",
              "        const dataTable =\n",
              "          await google.colab.kernel.invokeFunction('convertToInteractive',\n",
              "                                                    [key], {});\n",
              "        if (!dataTable) return;\n",
              "\n",
              "        const docLinkHtml = 'Like what you see? Visit the ' +\n",
              "          '<a target=\"_blank\" href=https://colab.research.google.com/notebooks/data_table.ipynb>data table notebook</a>'\n",
              "          + ' to learn more about interactive tables.';\n",
              "        element.innerHTML = '';\n",
              "        dataTable['output_type'] = 'display_data';\n",
              "        await google.colab.output.renderOutput(dataTable, element);\n",
              "        const docLink = document.createElement('div');\n",
              "        docLink.innerHTML = docLinkHtml;\n",
              "        element.appendChild(docLink);\n",
              "      }\n",
              "    </script>\n",
              "  </div>\n",
              "\n",
              "\n",
              "<div id=\"df-0f7649fa-9f58-4a9e-9e58-f86b2ce2f860\">\n",
              "  <button class=\"colab-df-quickchart\" onclick=\"quickchart('df-0f7649fa-9f58-4a9e-9e58-f86b2ce2f860')\"\n",
              "            title=\"Suggest charts\"\n",
              "            style=\"display:none;\">\n",
              "\n",
              "<svg xmlns=\"http://www.w3.org/2000/svg\" height=\"24px\"viewBox=\"0 0 24 24\"\n",
              "     width=\"24px\">\n",
              "    <g>\n",
              "        <path d=\"M19 3H5c-1.1 0-2 .9-2 2v14c0 1.1.9 2 2 2h14c1.1 0 2-.9 2-2V5c0-1.1-.9-2-2-2zM9 17H7v-7h2v7zm4 0h-2V7h2v10zm4 0h-2v-4h2v4z\"/>\n",
              "    </g>\n",
              "</svg>\n",
              "  </button>\n",
              "\n",
              "<style>\n",
              "  .colab-df-quickchart {\n",
              "      --bg-color: #E8F0FE;\n",
              "      --fill-color: #1967D2;\n",
              "      --hover-bg-color: #E2EBFA;\n",
              "      --hover-fill-color: #174EA6;\n",
              "      --disabled-fill-color: #AAA;\n",
              "      --disabled-bg-color: #DDD;\n",
              "  }\n",
              "\n",
              "  [theme=dark] .colab-df-quickchart {\n",
              "      --bg-color: #3B4455;\n",
              "      --fill-color: #D2E3FC;\n",
              "      --hover-bg-color: #434B5C;\n",
              "      --hover-fill-color: #FFFFFF;\n",
              "      --disabled-bg-color: #3B4455;\n",
              "      --disabled-fill-color: #666;\n",
              "  }\n",
              "\n",
              "  .colab-df-quickchart {\n",
              "    background-color: var(--bg-color);\n",
              "    border: none;\n",
              "    border-radius: 50%;\n",
              "    cursor: pointer;\n",
              "    display: none;\n",
              "    fill: var(--fill-color);\n",
              "    height: 32px;\n",
              "    padding: 0;\n",
              "    width: 32px;\n",
              "  }\n",
              "\n",
              "  .colab-df-quickchart:hover {\n",
              "    background-color: var(--hover-bg-color);\n",
              "    box-shadow: 0 1px 2px rgba(60, 64, 67, 0.3), 0 1px 3px 1px rgba(60, 64, 67, 0.15);\n",
              "    fill: var(--button-hover-fill-color);\n",
              "  }\n",
              "\n",
              "  .colab-df-quickchart-complete:disabled,\n",
              "  .colab-df-quickchart-complete:disabled:hover {\n",
              "    background-color: var(--disabled-bg-color);\n",
              "    fill: var(--disabled-fill-color);\n",
              "    box-shadow: none;\n",
              "  }\n",
              "\n",
              "  .colab-df-spinner {\n",
              "    border: 2px solid var(--fill-color);\n",
              "    border-color: transparent;\n",
              "    border-bottom-color: var(--fill-color);\n",
              "    animation:\n",
              "      spin 1s steps(1) infinite;\n",
              "  }\n",
              "\n",
              "  @keyframes spin {\n",
              "    0% {\n",
              "      border-color: transparent;\n",
              "      border-bottom-color: var(--fill-color);\n",
              "      border-left-color: var(--fill-color);\n",
              "    }\n",
              "    20% {\n",
              "      border-color: transparent;\n",
              "      border-left-color: var(--fill-color);\n",
              "      border-top-color: var(--fill-color);\n",
              "    }\n",
              "    30% {\n",
              "      border-color: transparent;\n",
              "      border-left-color: var(--fill-color);\n",
              "      border-top-color: var(--fill-color);\n",
              "      border-right-color: var(--fill-color);\n",
              "    }\n",
              "    40% {\n",
              "      border-color: transparent;\n",
              "      border-right-color: var(--fill-color);\n",
              "      border-top-color: var(--fill-color);\n",
              "    }\n",
              "    60% {\n",
              "      border-color: transparent;\n",
              "      border-right-color: var(--fill-color);\n",
              "    }\n",
              "    80% {\n",
              "      border-color: transparent;\n",
              "      border-right-color: var(--fill-color);\n",
              "      border-bottom-color: var(--fill-color);\n",
              "    }\n",
              "    90% {\n",
              "      border-color: transparent;\n",
              "      border-bottom-color: var(--fill-color);\n",
              "    }\n",
              "  }\n",
              "</style>\n",
              "\n",
              "  <script>\n",
              "    async function quickchart(key) {\n",
              "      const quickchartButtonEl =\n",
              "        document.querySelector('#' + key + ' button');\n",
              "      quickchartButtonEl.disabled = true;  // To prevent multiple clicks.\n",
              "      quickchartButtonEl.classList.add('colab-df-spinner');\n",
              "      try {\n",
              "        const charts = await google.colab.kernel.invokeFunction(\n",
              "            'suggestCharts', [key], {});\n",
              "      } catch (error) {\n",
              "        console.error('Error during call to suggestCharts:', error);\n",
              "      }\n",
              "      quickchartButtonEl.classList.remove('colab-df-spinner');\n",
              "      quickchartButtonEl.classList.add('colab-df-quickchart-complete');\n",
              "    }\n",
              "    (() => {\n",
              "      let quickchartButtonEl =\n",
              "        document.querySelector('#df-0f7649fa-9f58-4a9e-9e58-f86b2ce2f860 button');\n",
              "      quickchartButtonEl.style.display =\n",
              "        google.colab.kernel.accessAllowed ? 'block' : 'none';\n",
              "    })();\n",
              "  </script>\n",
              "</div>\n",
              "\n",
              "    </div>\n",
              "  </div>\n"
            ],
            "application/vnd.google.colaboratory.intrinsic+json": {
              "type": "dataframe",
              "variable_name": "disasters_dataset"
            }
          },
          "metadata": {},
          "execution_count": 7
        }
      ],
      "source": [
        "#print first 5 rows\n",
        "disasters_dataset.head()"
      ]
    },
    {
      "cell_type": "code",
      "execution_count": 8,
      "metadata": {
        "colab": {
          "base_uri": "https://localhost:8080/"
        },
        "id": "3GDLVo-RpMM5",
        "outputId": "d3809480-1352-401b-bf56-b1dde0a05b16"
      },
      "outputs": [
        {
          "output_type": "execute_result",
          "data": {
            "text/plain": [
              "(16126, 45)"
            ]
          },
          "metadata": {},
          "execution_count": 8
        }
      ],
      "source": [
        "#number of rows and columns\n",
        "disasters_dataset.shape"
      ]
    },
    {
      "cell_type": "code",
      "execution_count": 9,
      "metadata": {
        "colab": {
          "base_uri": "https://localhost:8080/",
          "height": 355
        },
        "id": "1vRs7N5bsurM",
        "outputId": "9cfdcf51-904a-47bc-e001-bbda0b066cc7"
      },
      "outputs": [
        {
          "output_type": "execute_result",
          "data": {
            "text/plain": [
              "               Year           Seq  Aid Contribution  Dis Mag Value  \\\n",
              "count  16126.000000  16126.000000      6.770000e+02   4.946000e+03   \n",
              "mean    1996.764790    714.784820      1.254136e+05   4.735038e+04   \n",
              "std       20.159065   1929.635089      2.997875e+06   3.094242e+05   \n",
              "min     1900.000000      1.000000      1.000000e+00  -5.700000e+01   \n",
              "25%     1989.000000     93.000000      1.750000e+02   7.000000e+00   \n",
              "50%     2001.000000    270.000000      7.210000e+02   1.515000e+02   \n",
              "75%     2011.000000    486.000000      3.511000e+03   1.129650e+04   \n",
              "max     2021.000000   9881.000000      7.800000e+07   1.302587e+07   \n",
              "\n",
              "        Start Year   Start Month     Start Day      End Year     End Month  \\\n",
              "count  16126.00000  15739.000000  12498.000000  16126.000000  15418.000000   \n",
              "mean    1996.77837      6.444374     15.233957   1996.835607      6.576728   \n",
              "std       20.15571      3.393965      8.953821     20.143010      3.352965   \n",
              "min     1900.00000      1.000000      1.000000   1900.000000      1.000000   \n",
              "25%     1989.00000      4.000000      7.000000   1989.000000      4.000000   \n",
              "50%     2001.00000      7.000000     15.000000   2001.000000      7.000000   \n",
              "75%     2011.00000      9.000000     23.000000   2011.000000      9.000000   \n",
              "max     2021.00000     12.000000     31.000000   2021.000000     12.000000   \n",
              "\n",
              "            End Day  Total Deaths    No Injured   No Affected   No Homeless  \\\n",
              "count  12570.000000  1.141300e+04  3.895000e+03  9.220000e+03  2.430000e+03   \n",
              "mean      15.775020  2.842866e+03  2.621102e+03  8.823612e+05  7.329314e+04   \n",
              "std        8.865486  6.860595e+04  3.440343e+04  8.573913e+06  5.230058e+05   \n",
              "min        1.000000  1.000000e+00  1.000000e+00  1.000000e+00  3.000000e+00   \n",
              "25%        8.000000  6.000000e+00  1.400000e+01  1.244750e+03  5.725000e+02   \n",
              "50%       16.000000  2.000000e+01  5.000000e+01  1.000000e+04  3.000000e+03   \n",
              "75%       23.000000  6.300000e+01  2.000000e+02  9.182300e+04  1.750000e+04   \n",
              "max       31.000000  3.700000e+06  1.800000e+06  3.300000e+08  1.585000e+07   \n",
              "\n",
              "       Total Affected  Insured Damages ('000 US$)  Total Damages ('000 US$)  \\\n",
              "count    1.161700e+04                1.096000e+03              5.245000e+03   \n",
              "mean     7.165088e+05                7.986514e+05              7.247835e+05   \n",
              "std      7.718598e+06                3.057638e+06              4.723131e+06   \n",
              "min      1.000000e+00                3.400000e+01              2.000000e+00   \n",
              "25%      6.500000e+02                5.000000e+04              8.300000e+03   \n",
              "50%      5.965000e+03                1.725000e+05              6.000000e+04   \n",
              "75%      5.825500e+04                5.000000e+05              3.173000e+05   \n",
              "max      3.300000e+08                6.000000e+07              2.100000e+08   \n",
              "\n",
              "                CPI  \n",
              "count  15811.000000  \n",
              "mean      63.215103  \n",
              "std       26.734285  \n",
              "min        3.221647  \n",
              "25%       45.692897  \n",
              "50%       68.415379  \n",
              "75%       84.252733  \n",
              "max      100.000000  "
            ],
            "text/html": [
              "\n",
              "  <div id=\"df-38697215-3b14-4fda-a193-040337ed1713\" class=\"colab-df-container\">\n",
              "    <div>\n",
              "<style scoped>\n",
              "    .dataframe tbody tr th:only-of-type {\n",
              "        vertical-align: middle;\n",
              "    }\n",
              "\n",
              "    .dataframe tbody tr th {\n",
              "        vertical-align: top;\n",
              "    }\n",
              "\n",
              "    .dataframe thead th {\n",
              "        text-align: right;\n",
              "    }\n",
              "</style>\n",
              "<table border=\"1\" class=\"dataframe\">\n",
              "  <thead>\n",
              "    <tr style=\"text-align: right;\">\n",
              "      <th></th>\n",
              "      <th>Year</th>\n",
              "      <th>Seq</th>\n",
              "      <th>Aid Contribution</th>\n",
              "      <th>Dis Mag Value</th>\n",
              "      <th>Start Year</th>\n",
              "      <th>Start Month</th>\n",
              "      <th>Start Day</th>\n",
              "      <th>End Year</th>\n",
              "      <th>End Month</th>\n",
              "      <th>End Day</th>\n",
              "      <th>Total Deaths</th>\n",
              "      <th>No Injured</th>\n",
              "      <th>No Affected</th>\n",
              "      <th>No Homeless</th>\n",
              "      <th>Total Affected</th>\n",
              "      <th>Insured Damages ('000 US$)</th>\n",
              "      <th>Total Damages ('000 US$)</th>\n",
              "      <th>CPI</th>\n",
              "    </tr>\n",
              "  </thead>\n",
              "  <tbody>\n",
              "    <tr>\n",
              "      <th>count</th>\n",
              "      <td>16126.000000</td>\n",
              "      <td>16126.000000</td>\n",
              "      <td>6.770000e+02</td>\n",
              "      <td>4.946000e+03</td>\n",
              "      <td>16126.00000</td>\n",
              "      <td>15739.000000</td>\n",
              "      <td>12498.000000</td>\n",
              "      <td>16126.000000</td>\n",
              "      <td>15418.000000</td>\n",
              "      <td>12570.000000</td>\n",
              "      <td>1.141300e+04</td>\n",
              "      <td>3.895000e+03</td>\n",
              "      <td>9.220000e+03</td>\n",
              "      <td>2.430000e+03</td>\n",
              "      <td>1.161700e+04</td>\n",
              "      <td>1.096000e+03</td>\n",
              "      <td>5.245000e+03</td>\n",
              "      <td>15811.000000</td>\n",
              "    </tr>\n",
              "    <tr>\n",
              "      <th>mean</th>\n",
              "      <td>1996.764790</td>\n",
              "      <td>714.784820</td>\n",
              "      <td>1.254136e+05</td>\n",
              "      <td>4.735038e+04</td>\n",
              "      <td>1996.77837</td>\n",
              "      <td>6.444374</td>\n",
              "      <td>15.233957</td>\n",
              "      <td>1996.835607</td>\n",
              "      <td>6.576728</td>\n",
              "      <td>15.775020</td>\n",
              "      <td>2.842866e+03</td>\n",
              "      <td>2.621102e+03</td>\n",
              "      <td>8.823612e+05</td>\n",
              "      <td>7.329314e+04</td>\n",
              "      <td>7.165088e+05</td>\n",
              "      <td>7.986514e+05</td>\n",
              "      <td>7.247835e+05</td>\n",
              "      <td>63.215103</td>\n",
              "    </tr>\n",
              "    <tr>\n",
              "      <th>std</th>\n",
              "      <td>20.159065</td>\n",
              "      <td>1929.635089</td>\n",
              "      <td>2.997875e+06</td>\n",
              "      <td>3.094242e+05</td>\n",
              "      <td>20.15571</td>\n",
              "      <td>3.393965</td>\n",
              "      <td>8.953821</td>\n",
              "      <td>20.143010</td>\n",
              "      <td>3.352965</td>\n",
              "      <td>8.865486</td>\n",
              "      <td>6.860595e+04</td>\n",
              "      <td>3.440343e+04</td>\n",
              "      <td>8.573913e+06</td>\n",
              "      <td>5.230058e+05</td>\n",
              "      <td>7.718598e+06</td>\n",
              "      <td>3.057638e+06</td>\n",
              "      <td>4.723131e+06</td>\n",
              "      <td>26.734285</td>\n",
              "    </tr>\n",
              "    <tr>\n",
              "      <th>min</th>\n",
              "      <td>1900.000000</td>\n",
              "      <td>1.000000</td>\n",
              "      <td>1.000000e+00</td>\n",
              "      <td>-5.700000e+01</td>\n",
              "      <td>1900.00000</td>\n",
              "      <td>1.000000</td>\n",
              "      <td>1.000000</td>\n",
              "      <td>1900.000000</td>\n",
              "      <td>1.000000</td>\n",
              "      <td>1.000000</td>\n",
              "      <td>1.000000e+00</td>\n",
              "      <td>1.000000e+00</td>\n",
              "      <td>1.000000e+00</td>\n",
              "      <td>3.000000e+00</td>\n",
              "      <td>1.000000e+00</td>\n",
              "      <td>3.400000e+01</td>\n",
              "      <td>2.000000e+00</td>\n",
              "      <td>3.221647</td>\n",
              "    </tr>\n",
              "    <tr>\n",
              "      <th>25%</th>\n",
              "      <td>1989.000000</td>\n",
              "      <td>93.000000</td>\n",
              "      <td>1.750000e+02</td>\n",
              "      <td>7.000000e+00</td>\n",
              "      <td>1989.00000</td>\n",
              "      <td>4.000000</td>\n",
              "      <td>7.000000</td>\n",
              "      <td>1989.000000</td>\n",
              "      <td>4.000000</td>\n",
              "      <td>8.000000</td>\n",
              "      <td>6.000000e+00</td>\n",
              "      <td>1.400000e+01</td>\n",
              "      <td>1.244750e+03</td>\n",
              "      <td>5.725000e+02</td>\n",
              "      <td>6.500000e+02</td>\n",
              "      <td>5.000000e+04</td>\n",
              "      <td>8.300000e+03</td>\n",
              "      <td>45.692897</td>\n",
              "    </tr>\n",
              "    <tr>\n",
              "      <th>50%</th>\n",
              "      <td>2001.000000</td>\n",
              "      <td>270.000000</td>\n",
              "      <td>7.210000e+02</td>\n",
              "      <td>1.515000e+02</td>\n",
              "      <td>2001.00000</td>\n",
              "      <td>7.000000</td>\n",
              "      <td>15.000000</td>\n",
              "      <td>2001.000000</td>\n",
              "      <td>7.000000</td>\n",
              "      <td>16.000000</td>\n",
              "      <td>2.000000e+01</td>\n",
              "      <td>5.000000e+01</td>\n",
              "      <td>1.000000e+04</td>\n",
              "      <td>3.000000e+03</td>\n",
              "      <td>5.965000e+03</td>\n",
              "      <td>1.725000e+05</td>\n",
              "      <td>6.000000e+04</td>\n",
              "      <td>68.415379</td>\n",
              "    </tr>\n",
              "    <tr>\n",
              "      <th>75%</th>\n",
              "      <td>2011.000000</td>\n",
              "      <td>486.000000</td>\n",
              "      <td>3.511000e+03</td>\n",
              "      <td>1.129650e+04</td>\n",
              "      <td>2011.00000</td>\n",
              "      <td>9.000000</td>\n",
              "      <td>23.000000</td>\n",
              "      <td>2011.000000</td>\n",
              "      <td>9.000000</td>\n",
              "      <td>23.000000</td>\n",
              "      <td>6.300000e+01</td>\n",
              "      <td>2.000000e+02</td>\n",
              "      <td>9.182300e+04</td>\n",
              "      <td>1.750000e+04</td>\n",
              "      <td>5.825500e+04</td>\n",
              "      <td>5.000000e+05</td>\n",
              "      <td>3.173000e+05</td>\n",
              "      <td>84.252733</td>\n",
              "    </tr>\n",
              "    <tr>\n",
              "      <th>max</th>\n",
              "      <td>2021.000000</td>\n",
              "      <td>9881.000000</td>\n",
              "      <td>7.800000e+07</td>\n",
              "      <td>1.302587e+07</td>\n",
              "      <td>2021.00000</td>\n",
              "      <td>12.000000</td>\n",
              "      <td>31.000000</td>\n",
              "      <td>2021.000000</td>\n",
              "      <td>12.000000</td>\n",
              "      <td>31.000000</td>\n",
              "      <td>3.700000e+06</td>\n",
              "      <td>1.800000e+06</td>\n",
              "      <td>3.300000e+08</td>\n",
              "      <td>1.585000e+07</td>\n",
              "      <td>3.300000e+08</td>\n",
              "      <td>6.000000e+07</td>\n",
              "      <td>2.100000e+08</td>\n",
              "      <td>100.000000</td>\n",
              "    </tr>\n",
              "  </tbody>\n",
              "</table>\n",
              "</div>\n",
              "    <div class=\"colab-df-buttons\">\n",
              "\n",
              "  <div class=\"colab-df-container\">\n",
              "    <button class=\"colab-df-convert\" onclick=\"convertToInteractive('df-38697215-3b14-4fda-a193-040337ed1713')\"\n",
              "            title=\"Convert this dataframe to an interactive table.\"\n",
              "            style=\"display:none;\">\n",
              "\n",
              "  <svg xmlns=\"http://www.w3.org/2000/svg\" height=\"24px\" viewBox=\"0 -960 960 960\">\n",
              "    <path d=\"M120-120v-720h720v720H120Zm60-500h600v-160H180v160Zm220 220h160v-160H400v160Zm0 220h160v-160H400v160ZM180-400h160v-160H180v160Zm440 0h160v-160H620v160ZM180-180h160v-160H180v160Zm440 0h160v-160H620v160Z\"/>\n",
              "  </svg>\n",
              "    </button>\n",
              "\n",
              "  <style>\n",
              "    .colab-df-container {\n",
              "      display:flex;\n",
              "      gap: 12px;\n",
              "    }\n",
              "\n",
              "    .colab-df-convert {\n",
              "      background-color: #E8F0FE;\n",
              "      border: none;\n",
              "      border-radius: 50%;\n",
              "      cursor: pointer;\n",
              "      display: none;\n",
              "      fill: #1967D2;\n",
              "      height: 32px;\n",
              "      padding: 0 0 0 0;\n",
              "      width: 32px;\n",
              "    }\n",
              "\n",
              "    .colab-df-convert:hover {\n",
              "      background-color: #E2EBFA;\n",
              "      box-shadow: 0px 1px 2px rgba(60, 64, 67, 0.3), 0px 1px 3px 1px rgba(60, 64, 67, 0.15);\n",
              "      fill: #174EA6;\n",
              "    }\n",
              "\n",
              "    .colab-df-buttons div {\n",
              "      margin-bottom: 4px;\n",
              "    }\n",
              "\n",
              "    [theme=dark] .colab-df-convert {\n",
              "      background-color: #3B4455;\n",
              "      fill: #D2E3FC;\n",
              "    }\n",
              "\n",
              "    [theme=dark] .colab-df-convert:hover {\n",
              "      background-color: #434B5C;\n",
              "      box-shadow: 0px 1px 3px 1px rgba(0, 0, 0, 0.15);\n",
              "      filter: drop-shadow(0px 1px 2px rgba(0, 0, 0, 0.3));\n",
              "      fill: #FFFFFF;\n",
              "    }\n",
              "  </style>\n",
              "\n",
              "    <script>\n",
              "      const buttonEl =\n",
              "        document.querySelector('#df-38697215-3b14-4fda-a193-040337ed1713 button.colab-df-convert');\n",
              "      buttonEl.style.display =\n",
              "        google.colab.kernel.accessAllowed ? 'block' : 'none';\n",
              "\n",
              "      async function convertToInteractive(key) {\n",
              "        const element = document.querySelector('#df-38697215-3b14-4fda-a193-040337ed1713');\n",
              "        const dataTable =\n",
              "          await google.colab.kernel.invokeFunction('convertToInteractive',\n",
              "                                                    [key], {});\n",
              "        if (!dataTable) return;\n",
              "\n",
              "        const docLinkHtml = 'Like what you see? Visit the ' +\n",
              "          '<a target=\"_blank\" href=https://colab.research.google.com/notebooks/data_table.ipynb>data table notebook</a>'\n",
              "          + ' to learn more about interactive tables.';\n",
              "        element.innerHTML = '';\n",
              "        dataTable['output_type'] = 'display_data';\n",
              "        await google.colab.output.renderOutput(dataTable, element);\n",
              "        const docLink = document.createElement('div');\n",
              "        docLink.innerHTML = docLinkHtml;\n",
              "        element.appendChild(docLink);\n",
              "      }\n",
              "    </script>\n",
              "  </div>\n",
              "\n",
              "\n",
              "<div id=\"df-d788de30-e979-48b1-a133-a3696b435b3c\">\n",
              "  <button class=\"colab-df-quickchart\" onclick=\"quickchart('df-d788de30-e979-48b1-a133-a3696b435b3c')\"\n",
              "            title=\"Suggest charts\"\n",
              "            style=\"display:none;\">\n",
              "\n",
              "<svg xmlns=\"http://www.w3.org/2000/svg\" height=\"24px\"viewBox=\"0 0 24 24\"\n",
              "     width=\"24px\">\n",
              "    <g>\n",
              "        <path d=\"M19 3H5c-1.1 0-2 .9-2 2v14c0 1.1.9 2 2 2h14c1.1 0 2-.9 2-2V5c0-1.1-.9-2-2-2zM9 17H7v-7h2v7zm4 0h-2V7h2v10zm4 0h-2v-4h2v4z\"/>\n",
              "    </g>\n",
              "</svg>\n",
              "  </button>\n",
              "\n",
              "<style>\n",
              "  .colab-df-quickchart {\n",
              "      --bg-color: #E8F0FE;\n",
              "      --fill-color: #1967D2;\n",
              "      --hover-bg-color: #E2EBFA;\n",
              "      --hover-fill-color: #174EA6;\n",
              "      --disabled-fill-color: #AAA;\n",
              "      --disabled-bg-color: #DDD;\n",
              "  }\n",
              "\n",
              "  [theme=dark] .colab-df-quickchart {\n",
              "      --bg-color: #3B4455;\n",
              "      --fill-color: #D2E3FC;\n",
              "      --hover-bg-color: #434B5C;\n",
              "      --hover-fill-color: #FFFFFF;\n",
              "      --disabled-bg-color: #3B4455;\n",
              "      --disabled-fill-color: #666;\n",
              "  }\n",
              "\n",
              "  .colab-df-quickchart {\n",
              "    background-color: var(--bg-color);\n",
              "    border: none;\n",
              "    border-radius: 50%;\n",
              "    cursor: pointer;\n",
              "    display: none;\n",
              "    fill: var(--fill-color);\n",
              "    height: 32px;\n",
              "    padding: 0;\n",
              "    width: 32px;\n",
              "  }\n",
              "\n",
              "  .colab-df-quickchart:hover {\n",
              "    background-color: var(--hover-bg-color);\n",
              "    box-shadow: 0 1px 2px rgba(60, 64, 67, 0.3), 0 1px 3px 1px rgba(60, 64, 67, 0.15);\n",
              "    fill: var(--button-hover-fill-color);\n",
              "  }\n",
              "\n",
              "  .colab-df-quickchart-complete:disabled,\n",
              "  .colab-df-quickchart-complete:disabled:hover {\n",
              "    background-color: var(--disabled-bg-color);\n",
              "    fill: var(--disabled-fill-color);\n",
              "    box-shadow: none;\n",
              "  }\n",
              "\n",
              "  .colab-df-spinner {\n",
              "    border: 2px solid var(--fill-color);\n",
              "    border-color: transparent;\n",
              "    border-bottom-color: var(--fill-color);\n",
              "    animation:\n",
              "      spin 1s steps(1) infinite;\n",
              "  }\n",
              "\n",
              "  @keyframes spin {\n",
              "    0% {\n",
              "      border-color: transparent;\n",
              "      border-bottom-color: var(--fill-color);\n",
              "      border-left-color: var(--fill-color);\n",
              "    }\n",
              "    20% {\n",
              "      border-color: transparent;\n",
              "      border-left-color: var(--fill-color);\n",
              "      border-top-color: var(--fill-color);\n",
              "    }\n",
              "    30% {\n",
              "      border-color: transparent;\n",
              "      border-left-color: var(--fill-color);\n",
              "      border-top-color: var(--fill-color);\n",
              "      border-right-color: var(--fill-color);\n",
              "    }\n",
              "    40% {\n",
              "      border-color: transparent;\n",
              "      border-right-color: var(--fill-color);\n",
              "      border-top-color: var(--fill-color);\n",
              "    }\n",
              "    60% {\n",
              "      border-color: transparent;\n",
              "      border-right-color: var(--fill-color);\n",
              "    }\n",
              "    80% {\n",
              "      border-color: transparent;\n",
              "      border-right-color: var(--fill-color);\n",
              "      border-bottom-color: var(--fill-color);\n",
              "    }\n",
              "    90% {\n",
              "      border-color: transparent;\n",
              "      border-bottom-color: var(--fill-color);\n",
              "    }\n",
              "  }\n",
              "</style>\n",
              "\n",
              "  <script>\n",
              "    async function quickchart(key) {\n",
              "      const quickchartButtonEl =\n",
              "        document.querySelector('#' + key + ' button');\n",
              "      quickchartButtonEl.disabled = true;  // To prevent multiple clicks.\n",
              "      quickchartButtonEl.classList.add('colab-df-spinner');\n",
              "      try {\n",
              "        const charts = await google.colab.kernel.invokeFunction(\n",
              "            'suggestCharts', [key], {});\n",
              "      } catch (error) {\n",
              "        console.error('Error during call to suggestCharts:', error);\n",
              "      }\n",
              "      quickchartButtonEl.classList.remove('colab-df-spinner');\n",
              "      quickchartButtonEl.classList.add('colab-df-quickchart-complete');\n",
              "    }\n",
              "    (() => {\n",
              "      let quickchartButtonEl =\n",
              "        document.querySelector('#df-d788de30-e979-48b1-a133-a3696b435b3c button');\n",
              "      quickchartButtonEl.style.display =\n",
              "        google.colab.kernel.accessAllowed ? 'block' : 'none';\n",
              "    })();\n",
              "  </script>\n",
              "</div>\n",
              "\n",
              "    </div>\n",
              "  </div>\n"
            ],
            "application/vnd.google.colaboratory.intrinsic+json": {
              "type": "dataframe",
              "summary": "{\n  \"name\": \"disasters_dataset\",\n  \"rows\": 8,\n  \"fields\": [\n    {\n      \"column\": \"Year\",\n      \"properties\": {\n        \"dtype\": \"number\",\n        \"std\": 5144.748253489709,\n        \"min\": 20.15906489715974,\n        \"max\": 16126.0,\n        \"num_unique_values\": 8,\n        \"samples\": [\n          1996.7647897804786,\n          2001.0,\n          16126.0\n        ],\n        \"semantic_type\": \"\",\n        \"description\": \"\"\n      }\n    },\n    {\n      \"column\": \"Seq\",\n      \"properties\": {\n        \"dtype\": \"number\",\n        \"std\": 6017.1477561867205,\n        \"min\": 1.0,\n        \"max\": 16126.0,\n        \"num_unique_values\": 8,\n        \"samples\": [\n          714.7848195460747,\n          270.0,\n          16126.0\n        ],\n        \"semantic_type\": \"\",\n        \"description\": \"\"\n      }\n    },\n    {\n      \"column\": \"Aid Contribution\",\n      \"properties\": {\n        \"dtype\": \"number\",\n        \"std\": 27438961.811830763,\n        \"min\": 1.0,\n        \"max\": 78000000.0,\n        \"num_unique_values\": 8,\n        \"samples\": [\n          125413.61152141802,\n          721.0,\n          677.0\n        ],\n        \"semantic_type\": \"\",\n        \"description\": \"\"\n      }\n    },\n    {\n      \"column\": \"Dis Mag Value\",\n      \"properties\": {\n        \"dtype\": \"number\",\n        \"std\": 4587715.0485499,\n        \"min\": -57.0,\n        \"max\": 13025874.0,\n        \"num_unique_values\": 8,\n        \"samples\": [\n          47350.38030731904,\n          151.5,\n          4946.0\n        ],\n        \"semantic_type\": \"\",\n        \"description\": \"\"\n      }\n    },\n    {\n      \"column\": \"Start Year\",\n      \"properties\": {\n        \"dtype\": \"number\",\n        \"std\": 5144.748008494441,\n        \"min\": 20.155709977241152,\n        \"max\": 16126.0,\n        \"num_unique_values\": 8,\n        \"samples\": [\n          1996.7783703336227,\n          2001.0,\n          16126.0\n        ],\n        \"semantic_type\": \"\",\n        \"description\": \"\"\n      }\n    },\n    {\n      \"column\": \"Start Month\",\n      \"properties\": {\n        \"dtype\": \"number\",\n        \"std\": 5562.414203227084,\n        \"min\": 1.0,\n        \"max\": 15739.0,\n        \"num_unique_values\": 8,\n        \"samples\": [\n          6.4443738484020585,\n          7.0,\n          15739.0\n        ],\n        \"semantic_type\": \"\",\n        \"description\": \"\"\n      }\n    },\n    {\n      \"column\": \"Start Day\",\n      \"properties\": {\n        \"dtype\": \"number\",\n        \"std\": 4413.609466497315,\n        \"min\": 1.0,\n        \"max\": 12498.0,\n        \"num_unique_values\": 8,\n        \"samples\": [\n          15.23395743318931,\n          15.0,\n          12498.0\n        ],\n        \"semantic_type\": \"\",\n        \"description\": \"\"\n      }\n    },\n    {\n      \"column\": \"End Year\",\n      \"properties\": {\n        \"dtype\": \"number\",\n        \"std\": 5144.746836556631,\n        \"min\": 20.14300993559608,\n        \"max\": 16126.0,\n        \"num_unique_values\": 8,\n        \"samples\": [\n          1996.8356070941336,\n          2001.0,\n          16126.0\n        ],\n        \"semantic_type\": \"\",\n        \"description\": \"\"\n      }\n    },\n    {\n      \"column\": \"End Month\",\n      \"properties\": {\n        \"dtype\": \"number\",\n        \"std\": 5448.91897693753,\n        \"min\": 1.0,\n        \"max\": 15418.0,\n        \"num_unique_values\": 8,\n        \"samples\": [\n          6.57672849915683,\n          7.0,\n          15418.0\n        ],\n        \"semantic_type\": \"\",\n        \"description\": \"\"\n      }\n    },\n    {\n      \"column\": \"End Day\",\n      \"properties\": {\n        \"dtype\": \"number\",\n        \"std\": 4438.941202396612,\n        \"min\": 1.0,\n        \"max\": 12570.0,\n        \"num_unique_values\": 8,\n        \"samples\": [\n          15.775019888623707,\n          16.0,\n          12570.0\n        ],\n        \"semantic_type\": \"\",\n        \"description\": \"\"\n      }\n    },\n    {\n      \"column\": \"Total Deaths\",\n      \"properties\": {\n        \"dtype\": \"number\",\n        \"std\": 1304169.3886847377,\n        \"min\": 1.0,\n        \"max\": 3700000.0,\n        \"num_unique_values\": 8,\n        \"samples\": [\n          2842.86550424954,\n          20.0,\n          11413.0\n        ],\n        \"semantic_type\": \"\",\n        \"description\": \"\"\n      }\n    },\n    {\n      \"column\": \"No Injured\",\n      \"properties\": {\n        \"dtype\": \"number\",\n        \"std\": 634424.4434596488,\n        \"min\": 1.0,\n        \"max\": 1800000.0,\n        \"num_unique_values\": 8,\n        \"samples\": [\n          2621.101668806162,\n          50.0,\n          3895.0\n        ],\n        \"semantic_type\": \"\",\n        \"description\": \"\"\n      }\n    },\n    {\n      \"column\": \"No Affected\",\n      \"properties\": {\n        \"dtype\": \"number\",\n        \"std\": 116226962.7213749,\n        \"min\": 1.0,\n        \"max\": 330000000.0,\n        \"num_unique_values\": 8,\n        \"samples\": [\n          882361.2424078091,\n          10000.0,\n          9220.0\n        ],\n        \"semantic_type\": \"\",\n        \"description\": \"\"\n      }\n    },\n    {\n      \"column\": \"No Homeless\",\n      \"properties\": {\n        \"dtype\": \"number\",\n        \"std\": 5575391.354552723,\n        \"min\": 3.0,\n        \"max\": 15850000.0,\n        \"num_unique_values\": 8,\n        \"samples\": [\n          73293.13786008231,\n          3000.0,\n          2430.0\n        ],\n        \"semantic_type\": \"\",\n        \"description\": \"\"\n      }\n    },\n    {\n      \"column\": \"Total Affected\",\n      \"properties\": {\n        \"dtype\": \"number\",\n        \"std\": 116273281.05331028,\n        \"min\": 1.0,\n        \"max\": 330000000.0,\n        \"num_unique_values\": 8,\n        \"samples\": [\n          716508.7519152965,\n          5965.0,\n          11617.0\n        ],\n        \"semantic_type\": \"\",\n        \"description\": \"\"\n      }\n    },\n    {\n      \"column\": \"Insured Damages ('000 US$)\",\n      \"properties\": {\n        \"dtype\": \"number\",\n        \"std\": 21006626.508426897,\n        \"min\": 34.0,\n        \"max\": 60000000.0,\n        \"num_unique_values\": 8,\n        \"samples\": [\n          798651.424270073,\n          172500.0,\n          1096.0\n        ],\n        \"semantic_type\": \"\",\n        \"description\": \"\"\n      }\n    },\n    {\n      \"column\": \"Total Damages ('000 US$)\",\n      \"properties\": {\n        \"dtype\": \"number\",\n        \"std\": 73968759.1402629,\n        \"min\": 2.0,\n        \"max\": 210000000.0,\n        \"num_unique_values\": 8,\n        \"samples\": [\n          724783.5428026692,\n          60000.0,\n          5245.0\n        ],\n        \"semantic_type\": \"\",\n        \"description\": \"\"\n      }\n    },\n    {\n      \"column\": \"CPI\",\n      \"properties\": {\n        \"dtype\": \"number\",\n        \"std\": 5570.343073546912,\n        \"min\": 3.221647271,\n        \"max\": 15811.0,\n        \"num_unique_values\": 8,\n        \"samples\": [\n          63.215103069474544,\n          68.41537906,\n          15811.0\n        ],\n        \"semantic_type\": \"\",\n        \"description\": \"\"\n      }\n    }\n  ]\n}"
            }
          },
          "metadata": {},
          "execution_count": 9
        }
      ],
      "source": [
        "#statisctical measures of the data\n",
        "disasters_dataset.describe()"
      ]
    },
    {
      "cell_type": "code",
      "source": [
        "disasters_dataset.CPI.describe()"
      ],
      "metadata": {
        "colab": {
          "base_uri": "https://localhost:8080/"
        },
        "id": "6WXO2P0Jf86x",
        "outputId": "ad7a77b3-b443-47e8-ad28-c2e6d3f24063"
      },
      "execution_count": 10,
      "outputs": [
        {
          "output_type": "execute_result",
          "data": {
            "text/plain": [
              "count    15811.000000\n",
              "mean        63.215103\n",
              "std         26.734285\n",
              "min          3.221647\n",
              "25%         45.692897\n",
              "50%         68.415379\n",
              "75%         84.252733\n",
              "max        100.000000\n",
              "Name: CPI, dtype: float64"
            ]
          },
          "metadata": {},
          "execution_count": 10
        }
      ]
    },
    {
      "cell_type": "code",
      "execution_count": 11,
      "metadata": {
        "colab": {
          "base_uri": "https://localhost:8080/",
          "height": 203
        },
        "id": "UKBZB7YptEkd",
        "outputId": "12a6b800-14ca-466f-9dfe-7ea9483072fc"
      },
      "outputs": [
        {
          "output_type": "execute_result",
          "data": {
            "text/plain": [
              "<bound method IndexOpsMixin.value_counts of 0        3.221647\n",
              "1        3.221647\n",
              "2        3.350513\n",
              "3        3.350513\n",
              "4        3.350513\n",
              "           ...   \n",
              "16121         NaN\n",
              "16122         NaN\n",
              "16123         NaN\n",
              "16124         NaN\n",
              "16125         NaN\n",
              "Name: CPI, Length: 16126, dtype: float64>"
            ],
            "text/html": [
              "<div style=\"max-width:800px; border: 1px solid var(--colab-border-color);\"><style>\n",
              "      pre.function-repr-contents {\n",
              "        overflow-x: auto;\n",
              "        padding: 8px 12px;\n",
              "        max-height: 500px;\n",
              "      }\n",
              "\n",
              "      pre.function-repr-contents.function-repr-contents-collapsed {\n",
              "        cursor: pointer;\n",
              "        max-height: 100px;\n",
              "      }\n",
              "    </style>\n",
              "    <pre style=\"white-space: initial; background:\n",
              "         var(--colab-secondary-surface-color); padding: 8px 12px;\n",
              "         border-bottom: 1px solid var(--colab-border-color);\"><b>pandas.core.base.IndexOpsMixin.value_counts</b><br/>def value_counts(normalize: bool=False, sort: bool=True, ascending: bool=False, bins=None, dropna: bool=True) -&gt; Series</pre><pre class=\"function-repr-contents function-repr-contents-collapsed\" style=\"\"><a class=\"filepath\" style=\"display:none\" href=\"#\">/usr/local/lib/python3.10/dist-packages/pandas/core/base.py</a>Return a Series containing counts of unique values.\n",
              "\n",
              "The resulting object will be in descending order so that the\n",
              "first element is the most frequently-occurring element.\n",
              "Excludes NA values by default.\n",
              "\n",
              "Parameters\n",
              "----------\n",
              "normalize : bool, default False\n",
              "    If True then the object returned will contain the relative\n",
              "    frequencies of the unique values.\n",
              "sort : bool, default True\n",
              "    Sort by frequencies.\n",
              "ascending : bool, default False\n",
              "    Sort in ascending order.\n",
              "bins : int, optional\n",
              "    Rather than count values, group them into half-open bins,\n",
              "    a convenience for ``pd.cut``, only works with numeric data.\n",
              "dropna : bool, default True\n",
              "    Don&#x27;t include counts of NaN.\n",
              "\n",
              "Returns\n",
              "-------\n",
              "Series\n",
              "\n",
              "See Also\n",
              "--------\n",
              "Series.count: Number of non-NA elements in a Series.\n",
              "DataFrame.count: Number of non-NA elements in a DataFrame.\n",
              "DataFrame.value_counts: Equivalent method on DataFrames.\n",
              "\n",
              "Examples\n",
              "--------\n",
              "&gt;&gt;&gt; index = pd.Index([3, 1, 2, 3, 4, np.nan])\n",
              "&gt;&gt;&gt; index.value_counts()\n",
              "3.0    2\n",
              "1.0    1\n",
              "2.0    1\n",
              "4.0    1\n",
              "Name: count, dtype: int64\n",
              "\n",
              "With `normalize` set to `True`, returns the relative frequency by\n",
              "dividing all values by the sum of values.\n",
              "\n",
              "&gt;&gt;&gt; s = pd.Series([3, 1, 2, 3, 4, np.nan])\n",
              "&gt;&gt;&gt; s.value_counts(normalize=True)\n",
              "3.0    0.4\n",
              "1.0    0.2\n",
              "2.0    0.2\n",
              "4.0    0.2\n",
              "Name: proportion, dtype: float64\n",
              "\n",
              "**bins**\n",
              "\n",
              "Bins can be useful for going from a continuous variable to a\n",
              "categorical variable; instead of counting unique\n",
              "apparitions of values, divide the index in the specified\n",
              "number of half-open bins.\n",
              "\n",
              "&gt;&gt;&gt; s.value_counts(bins=3)\n",
              "(0.996, 2.0]    2\n",
              "(2.0, 3.0]      2\n",
              "(3.0, 4.0]      1\n",
              "Name: count, dtype: int64\n",
              "\n",
              "**dropna**\n",
              "\n",
              "With `dropna` set to `False` we can also see NaN index values.\n",
              "\n",
              "&gt;&gt;&gt; s.value_counts(dropna=False)\n",
              "3.0    2\n",
              "1.0    1\n",
              "2.0    1\n",
              "4.0    1\n",
              "NaN    1\n",
              "Name: count, dtype: int64</pre>\n",
              "      <script>\n",
              "      if (google.colab.kernel.accessAllowed && google.colab.files && google.colab.files.view) {\n",
              "        for (const element of document.querySelectorAll('.filepath')) {\n",
              "          element.style.display = 'block'\n",
              "          element.onclick = (event) => {\n",
              "            event.preventDefault();\n",
              "            event.stopPropagation();\n",
              "            google.colab.files.view(element.textContent, 928);\n",
              "          };\n",
              "        }\n",
              "      }\n",
              "      for (const element of document.querySelectorAll('.function-repr-contents')) {\n",
              "        element.onclick = (event) => {\n",
              "          event.preventDefault();\n",
              "          event.stopPropagation();\n",
              "          element.classList.toggle('function-repr-contents-collapsed');\n",
              "        };\n",
              "      }\n",
              "      </script>\n",
              "      </div>"
            ]
          },
          "metadata": {},
          "execution_count": 11
        }
      ],
      "source": [
        "disasters_dataset['CPI'].value_counts"
      ]
    },
    {
      "cell_type": "code",
      "execution_count": 12,
      "metadata": {
        "colab": {
          "base_uri": "https://localhost:8080/"
        },
        "id": "O-yGCoM_yzdc",
        "outputId": "b4f99ee0-9698-479f-b6c7-142f37d2a0b4"
      },
      "outputs": [
        {
          "output_type": "stream",
          "name": "stdout",
          "text": [
            "Non-numerical columns: Index(['Glide', 'Disaster Group', 'Disaster Subgroup', 'Disaster Type',\n",
            "       'Disaster Subtype', 'Disaster Subsubtype', 'Event Name', 'Country',\n",
            "       'ISO', 'Region', 'Continent', 'Location', 'Origin', 'Associated Dis',\n",
            "       'Associated Dis2', 'OFDA Response', 'Appeal', 'Declaration',\n",
            "       'Dis Mag Scale', 'Latitude', 'Longitude', 'Local Time', 'River Basin',\n",
            "       'Adm Level', 'Admin1 Code', 'Admin2 Code', 'Geo Locations'],\n",
            "      dtype='object')\n"
          ]
        }
      ],
      "source": [
        "#handel non-numerical values\n",
        "non_numerical_cols = disasters_dataset.select_dtypes(include=[\"object\"]).columns\n",
        "print(f\"Non-numerical columns: {non_numerical_cols}\")\n"
      ]
    },
    {
      "cell_type": "code",
      "execution_count": null,
      "metadata": {
        "id": "tsrkQCNGy3Ix"
      },
      "outputs": [],
      "source": [
        "#drop non-numerical values\n",
        "disasters_dataset.drop(non_numerical_cols, axis=1, inplace=True)"
      ]
    },
    {
      "cell_type": "code",
      "execution_count": null,
      "metadata": {
        "id": "-RadQemXy6Bj"
      },
      "outputs": [],
      "source": [
        "#impute missing values\n",
        "imputer = SimpleImputer(strategy=\"mean\")\n",
        "data_imputed = imputer.fit_transform(disasters_dataset)\n"
      ]
    },
    {
      "cell_type": "code",
      "execution_count": 24,
      "metadata": {
        "id": "cZo75KsuzAG1"
      },
      "outputs": [],
      "source": [
        "# Update the non-numerical columns variable after dropping the non-numerical columns\n",
        "non_numerical_cols = disasters_dataset.select_dtypes(include=[\"object\"]).columns\n",
        "\n",
        "# Initialize label encoder\n",
        "le = LabelEncoder()\n",
        "\n",
        "# Encode non-numerical columns if any\n",
        "for col in non_numerical_cols:\n",
        "    disasters_dataset[col] = le.fit_transform(disasters_dataset[col])"
      ]
    },
    {
      "cell_type": "code",
      "execution_count": 25,
      "metadata": {
        "id": "Lgqu4TAixPHF"
      },
      "outputs": [],
      "source": [
        "#KNN imputation\n",
        "imputer = KNNImputer(n_neighbors=5)\n",
        "data_imputed = imputer.fit_transform(disasters_dataset)"
      ]
    },
    {
      "cell_type": "code",
      "execution_count": 30,
      "metadata": {
        "colab": {
          "base_uri": "https://localhost:8080/",
          "height": 545
        },
        "id": "mfdA19DPywuC",
        "outputId": "b228824e-0277-470e-ce71-cd7017910d04"
      },
      "outputs": [
        {
          "output_type": "display_data",
          "data": {
            "text/plain": [
              "<Figure size 1000x600 with 1 Axes>"
            ],
            "image/png": "[encoded data removed]"
          },
          "metadata": {}
        }
      ],
      "source": [
        "plt.figure(figsize=(10, 6))\n",
        "sns.histplot(disasters_dataset['CPI'], bins=30, kde=True)\n",
        "plt.title('Distribution of CPI')\n",
        "plt.xlabel('CPI')\n",
        "plt.ylabel('Frequency')\n",
        "plt.show()\n"
      ]
    },
    {
      "cell_type": "code",
      "execution_count": 31,
      "metadata": {
        "id": "IeiZ680d0uWy"
      },
      "outputs": [],
      "source": [
        "# Define features (X) and target (Y)\n",
        "X = disasters_dataset.drop(columns='CPI').values\n",
        "Y = disasters_dataset['CPI'].values\n"
      ]
    },
    {
      "cell_type": "code",
      "source": [
        "def create_dataset(X, Y, time_step=1):\n",
        "    Xs, ys = [], []\n",
        "    for i in range(len(X) - time_step):\n",
        "        v = X[i:(i + time_step)]\n",
        "        Xs.append(v)\n",
        "        ys.append(Y[i + time_step])\n",
        "    return np.array(Xs), np.array(ys)"
      ],
      "metadata": {
        "id": "BsRmmlAnhAco"
      },
      "execution_count": 52,
      "outputs": []
    },
    {
      "cell_type": "code",
      "execution_count": 49,
      "metadata": {
        "id": "XX0dCWG72o4C"
      },
      "outputs": [],
      "source": [
        "time_step = 1"
      ]
    },
    {
      "cell_type": "code",
      "execution_count": 34,
      "metadata": {
        "id": "PW5xO7u9NKKI"
      },
      "outputs": [],
      "source": [
        "X_lstm, Y_lstm = create_dataset(X, Y, time_step)\n",
        "\n"
      ]
    },
    {
      "cell_type": "code",
      "execution_count": 57,
      "metadata": {
        "id": "vYQ3yNhDNO4p"
      },
      "outputs": [],
      "source": [
        "X_lstm = X_lstm.reshape((X_lstm.shape[0], X_lstm.shape[1], X_lstm.shape[2]))"
      ]
    },
    {
      "cell_type": "code",
      "execution_count": 36,
      "metadata": {
        "id": "Lyb53P8bNR0q"
      },
      "outputs": [],
      "source": [
        "# Train-test split\n",
        "X_train, X_test, Y_train, Y_test = train_test_split(X_lstm, Y_lstm, test_size=0.2, random_state=2)\n"
      ]
    },
    {
      "cell_type": "code",
      "execution_count": 58,
      "metadata": {
        "id": "DN6THcEkNXtm"
      },
      "outputs": [],
      "source": [
        "# Define the LSTM model\n",
        "model = Sequential()\n",
        "model.add(LSTM(50, return_sequences=True, input_shape=(time_step, X_train.shape[2])))\n",
        "model.add(LSTM(50, return_sequences=False))\n",
        "model.add(Dense(1))\n",
        "model.compile(optimizer='adam', loss='mean_squared_error')"
      ]
    },
    {
      "cell_type": "code",
      "execution_count": 59,
      "metadata": {
        "colab": {
          "base_uri": "https://localhost:8080/"
        },
        "id": "xlljfp1tNbX6",
        "outputId": "1ce376ce-b339-4730-f93d-afb9c7d01550"
      },
      "outputs": [
        {
          "output_type": "stream",
          "name": "stdout",
          "text": [
            "Epoch 1/50\n",
            "404/404 [==============================] - 7s 7ms/step - loss: nan - val_loss: nan\n",
            "Epoch 2/50\n",
            "404/404 [==============================] - 2s 5ms/step - loss: nan - val_loss: nan\n",
            "Epoch 3/50\n",
            "404/404 [==============================] - 3s 7ms/step - loss: nan - val_loss: nan\n",
            "Epoch 4/50\n",
            "404/404 [==============================] - 3s 7ms/step - loss: nan - val_loss: nan\n",
            "Epoch 5/50\n",
            "404/404 [==============================] - 2s 4ms/step - loss: nan - val_loss: nan\n",
            "Epoch 6/50\n",
            "404/404 [==============================] - 2s 5ms/step - loss: nan - val_loss: nan\n",
            "Epoch 7/50\n",
            "404/404 [==============================] - 2s 5ms/step - loss: nan - val_loss: nan\n",
            "Epoch 8/50\n",
            "404/404 [==============================] - 2s 5ms/step - loss: nan - val_loss: nan\n",
            "Epoch 9/50\n",
            "404/404 [==============================] - 2s 5ms/step - loss: nan - val_loss: nan\n",
            "Epoch 10/50\n",
            "404/404 [==============================] - 3s 7ms/step - loss: nan - val_loss: nan\n",
            "Epoch 11/50\n",
            "404/404 [==============================] - 2s 5ms/step - loss: nan - val_loss: nan\n",
            "Epoch 12/50\n",
            "404/404 [==============================] - 2s 5ms/step - loss: nan - val_loss: nan\n",
            "Epoch 13/50\n",
            "404/404 [==============================] - 2s 5ms/step - loss: nan - val_loss: nan\n",
            "Epoch 14/50\n",
            "404/404 [==============================] - 2s 5ms/step - loss: nan - val_loss: nan\n",
            "Epoch 15/50\n",
            "404/404 [==============================] - 2s 5ms/step - loss: nan - val_loss: nan\n",
            "Epoch 16/50\n",
            "404/404 [==============================] - 3s 7ms/step - loss: nan - val_loss: nan\n",
            "Epoch 17/50\n",
            "404/404 [==============================] - 2s 5ms/step - loss: nan - val_loss: nan\n",
            "Epoch 18/50\n",
            "404/404 [==============================] - 2s 5ms/step - loss: nan - val_loss: nan\n",
            "Epoch 19/50\n",
            "404/404 [==============================] - 2s 5ms/step - loss: nan - val_loss: nan\n",
            "Epoch 20/50\n",
            "404/404 [==============================] - 2s 5ms/step - loss: nan - val_loss: nan\n",
            "Epoch 21/50\n",
            "404/404 [==============================] - 2s 6ms/step - loss: nan - val_loss: nan\n",
            "Epoch 22/50\n",
            "404/404 [==============================] - 5s 12ms/step - loss: nan - val_loss: nan\n",
            "Epoch 23/50\n",
            "404/404 [==============================] - 3s 8ms/step - loss: nan - val_loss: nan\n",
            "Epoch 24/50\n",
            "404/404 [==============================] - 3s 8ms/step - loss: nan - val_loss: nan\n",
            "Epoch 25/50\n",
            "404/404 [==============================] - 2s 5ms/step - loss: nan - val_loss: nan\n",
            "Epoch 26/50\n",
            "404/404 [==============================] - 2s 5ms/step - loss: nan - val_loss: nan\n",
            "Epoch 27/50\n",
            "404/404 [==============================] - 3s 7ms/step - loss: nan - val_loss: nan\n",
            "Epoch 28/50\n",
            "404/404 [==============================] - 2s 5ms/step - loss: nan - val_loss: nan\n",
            "Epoch 29/50\n",
            "404/404 [==============================] - 2s 5ms/step - loss: nan - val_loss: nan\n",
            "Epoch 30/50\n",
            "404/404 [==============================] - 2s 5ms/step - loss: nan - val_loss: nan\n",
            "Epoch 31/50\n",
            "404/404 [==============================] - 2s 5ms/step - loss: nan - val_loss: nan\n",
            "Epoch 32/50\n",
            "404/404 [==============================] - 2s 5ms/step - loss: nan - val_loss: nan\n",
            "Epoch 33/50\n",
            "404/404 [==============================] - 3s 7ms/step - loss: nan - val_loss: nan\n",
            "Epoch 34/50\n",
            "404/404 [==============================] - 2s 6ms/step - loss: nan - val_loss: nan\n",
            "Epoch 35/50\n",
            "404/404 [==============================] - 2s 5ms/step - loss: nan - val_loss: nan\n",
            "Epoch 36/50\n",
            "404/404 [==============================] - 2s 5ms/step - loss: nan - val_loss: nan\n",
            "Epoch 37/50\n",
            "404/404 [==============================] - 2s 5ms/step - loss: nan - val_loss: nan\n",
            "Epoch 38/50\n",
            "404/404 [==============================] - 2s 5ms/step - loss: nan - val_loss: nan\n",
            "Epoch 39/50\n",
            "404/404 [==============================] - 3s 7ms/step - loss: nan - val_loss: nan\n",
            "Epoch 40/50\n",
            "404/404 [==============================] - 2s 6ms/step - loss: nan - val_loss: nan\n",
            "Epoch 41/50\n",
            "404/404 [==============================] - 2s 5ms/step - loss: nan - val_loss: nan\n",
            "Epoch 42/50\n",
            "404/404 [==============================] - 2s 5ms/step - loss: nan - val_loss: nan\n",
            "Epoch 43/50\n",
            "404/404 [==============================] - 2s 5ms/step - loss: nan - val_loss: nan\n",
            "Epoch 44/50\n",
            "404/404 [==============================] - 2s 5ms/step - loss: nan - val_loss: nan\n",
            "Epoch 45/50\n",
            "404/404 [==============================] - 3s 7ms/step - loss: nan - val_loss: nan\n",
            "Epoch 46/50\n",
            "404/404 [==============================] - 2s 6ms/step - loss: nan - val_loss: nan\n",
            "Epoch 47/50\n",
            "404/404 [==============================] - 2s 5ms/step - loss: nan - val_loss: nan\n",
            "Epoch 48/50\n",
            "404/404 [==============================] - 2s 5ms/step - loss: nan - val_loss: nan\n",
            "Epoch 49/50\n",
            "404/404 [==============================] - 2s 5ms/step - loss: nan - val_loss: nan\n",
            "Epoch 50/50\n",
            "404/404 [==============================] - 2s 6ms/step - loss: nan - val_loss: nan\n"
          ]
        },
        {
          "output_type": "execute_result",
          "data": {
            "text/plain": [
              "<keras.src.callbacks.History at 0x7e3e66ad2890>"
            ]
          },
          "metadata": {},
          "execution_count": 59
        }
      ],
      "source": [
        "# Train the model\n",
        "model.fit(X_train, Y_train, epochs=50, batch_size=32, validation_data=(X_test, Y_test), verbose=1)"
      ]
    },
    {
      "cell_type": "code",
      "execution_count": 60,
      "metadata": {
        "colab": {
          "base_uri": "https://localhost:8080/"
        },
        "id": "wbhefT60Nyhf",
        "outputId": "b860f59d-5f5b-46fe-86a6-06ae46a92fec"
      },
      "outputs": [
        {
          "output_type": "stream",
          "name": "stdout",
          "text": [
            "404/404 [==============================] - 2s 2ms/step\n",
            "101/101 [==============================] - 0s 2ms/step\n",
            "Train Score:  nan\n",
            "Test Score:  nan\n"
          ]
        }
      ],
      "source": [
        "# Make predictions\n",
        "train_predict = model.predict(X_train)\n",
        "test_predict = model.predict(X_test)\n",
        "\n",
        "# Evaluate the model\n",
        "train_score = model.evaluate(X_train, Y_train, verbose=0)\n",
        "test_score = model.evaluate(X_test, Y_test, verbose=0)\n",
        "print('Train Score: ', train_score)\n",
        "print('Test Score: ', test_score)\n"
      ]
    },
    {
      "cell_type": "code",
      "execution_count": 61,
      "metadata": {
        "id": "uUesNJ6_3uBX"
      },
      "outputs": [],
      "source": [
        "X = disasters_dataset.drop(columns = 'CPI', axis = 1)\n",
        "Y = disasters_dataset['CPI']\n"
      ]
    },
    {
      "cell_type": "code",
      "execution_count": null,
      "metadata": {
        "colab": {
          "base_uri": "https://localhost:8080/"
        },
        "id": "pfbzS79b3xrn",
        "outputId": "dd8b3013-e2a7-40b5-b113-0162a569af87"
      },
      "outputs": [
        {
          "name": "stdout",
          "output_type": "stream",
          "text": [
            "       Year   Seq  Aid Contribution  Dis Mag Value  Start Year  Start Month  \\\n",
            "0      1900  9002               NaN            NaN        1900          NaN   \n",
            "1      1900  9001               NaN            NaN        1900          NaN   \n",
            "2      1902    12               NaN            8.0        1902          4.0   \n",
            "3      1902     3               NaN            NaN        1902          4.0   \n",
            "4      1902    10               NaN            NaN        1902         10.0   \n",
            "...     ...   ...               ...            ...         ...          ...   \n",
            "16120  2021   270               NaN            NaN        2021          5.0   \n",
            "16121  2021   449               NaN            NaN        2021          7.0   \n",
            "16122  2021    75               NaN            NaN        2021          2.0   \n",
            "16123  2021   599               NaN            NaN        2021          9.0   \n",
            "16125  2021   481               NaN            NaN        2021          5.0   \n",
            "\n",
            "       Start Day  End Year  End Month  End Day  No Injured  No Affected  \\\n",
            "0            NaN      1900        NaN      NaN         NaN          NaN   \n",
            "1            NaN      1900        NaN      NaN         NaN          NaN   \n",
            "2           18.0      1902        4.0     18.0         NaN          NaN   \n",
            "3            8.0      1902        4.0      8.0         NaN          NaN   \n",
            "4           24.0      1902       10.0     24.0         NaN          NaN   \n",
            "...          ...       ...        ...      ...         ...          ...   \n",
            "16120        1.0      2021        5.0     17.0         NaN      22380.0   \n",
            "16121       16.0      2021        8.0      7.0         NaN      67980.0   \n",
            "16122        1.0      2021        2.0     15.0         NaN        400.0   \n",
            "16123        7.0      2021        9.0     13.0       301.0          NaN   \n",
            "16125        NaN      2021       10.0      7.0         NaN     500000.0   \n",
            "\n",
            "       No Homeless  Total Affected  Insured Damages ('000 US$)  \\\n",
            "0              NaN             NaN                         NaN   \n",
            "1              NaN             NaN                         NaN   \n",
            "2              NaN             NaN                         NaN   \n",
            "3              NaN             NaN                         NaN   \n",
            "4              NaN             NaN                         NaN   \n",
            "...            ...             ...                         ...   \n",
            "16120          NaN         22380.0                         NaN   \n",
            "16121          NaN         67980.0                         NaN   \n",
            "16122          NaN           400.0                         NaN   \n",
            "16123          NaN           301.0                         NaN   \n",
            "16125          NaN        500000.0                         NaN   \n",
            "\n",
            "       Total Damages ('000 US$)       CPI  \n",
            "0                           NaN  3.221647  \n",
            "1                           NaN  3.221647  \n",
            "2                       25000.0  3.350513  \n",
            "3                           NaN  3.350513  \n",
            "4                           NaN  3.350513  \n",
            "...                         ...       ...  \n",
            "16120                       NaN       NaN  \n",
            "16121                       NaN       NaN  \n",
            "16122                   75000.0       NaN  \n",
            "16123                       NaN       NaN  \n",
            "16125                       NaN       NaN  \n",
            "\n",
            "[11413 rows x 17 columns]\n"
          ]
        }
      ],
      "source": [
        "print(X)"
      ]
    },
    {
      "cell_type": "code",
      "execution_count": 62,
      "metadata": {
        "colab": {
          "base_uri": "https://localhost:8080/"
        },
        "id": "nXkZUVnD4Fzx",
        "outputId": "dad8c4c4-01f7-486c-a886-14fd57e22e15"
      },
      "outputs": [
        {
          "output_type": "stream",
          "name": "stdout",
          "text": [
            "0        3.221647\n",
            "1        3.221647\n",
            "2        3.350513\n",
            "3        3.350513\n",
            "4        3.350513\n",
            "           ...   \n",
            "16121         NaN\n",
            "16122         NaN\n",
            "16123         NaN\n",
            "16124         NaN\n",
            "16125         NaN\n",
            "Name: CPI, Length: 16126, dtype: float64\n"
          ]
        }
      ],
      "source": [
        "print(Y)"
      ]
    },
    {
      "cell_type": "code",
      "execution_count": 63,
      "metadata": {
        "id": "gyTq8PsF4ILE"
      },
      "outputs": [],
      "source": [
        "scaler = StandardScaler()"
      ]
    },
    {
      "cell_type": "code",
      "execution_count": 64,
      "metadata": {
        "colab": {
          "base_uri": "https://localhost:8080/",
          "height": 74
        },
        "id": "SSRFBcHS4LTy",
        "outputId": "7d8cc230-bf18-486d-8da4-379fb9018168"
      },
      "outputs": [
        {
          "output_type": "execute_result",
          "data": {
            "text/plain": [
              "StandardScaler()"
            ],
            "text/html": [
              "<style>#sk-container-id-1 {color: black;background-color: white;}#sk-container-id-1 pre{padding: 0;}#sk-container-id-1 div.sk-toggleable {background-color: white;}#sk-container-id-1 label.sk-toggleable__label {cursor: pointer;display: block;width: 100%;margin-bottom: 0;padding: 0.3em;box-sizing: border-box;text-align: center;}#sk-container-id-1 label.sk-toggleable__label-arrow:before {content: \"▸\";float: left;margin-right: 0.25em;color: #696969;}#sk-container-id-1 label.sk-toggleable__label-arrow:hover:before {color: black;}#sk-container-id-1 div.sk-estimator:hover label.sk-toggleable__label-arrow:before {color: black;}#sk-container-id-1 div.sk-toggleable__content {max-height: 0;max-width: 0;overflow: hidden;text-align: left;background-color: #f0f8ff;}#sk-container-id-1 div.sk-toggleable__content pre {margin: 0.2em;color: black;border-radius: 0.25em;background-color: #f0f8ff;}#sk-container-id-1 input.sk-toggleable__control:checked~div.sk-toggleable__content {max-height: 200px;max-width: 100%;overflow: auto;}#sk-container-id-1 input.sk-toggleable__control:checked~label.sk-toggleable__label-arrow:before {content: \"▾\";}#sk-container-id-1 div.sk-estimator input.sk-toggleable__control:checked~label.sk-toggleable__label {background-color: #d4ebff;}#sk-container-id-1 div.sk-label input.sk-toggleable__control:checked~label.sk-toggleable__label {background-color: #d4ebff;}#sk-container-id-1 input.sk-hidden--visually {border: 0;clip: rect(1px 1px 1px 1px);clip: rect(1px, 1px, 1px, 1px);height: 1px;margin: -1px;overflow: hidden;padding: 0;position: absolute;width: 1px;}#sk-container-id-1 div.sk-estimator {font-family: monospace;background-color: #f0f8ff;border: 1px dotted black;border-radius: 0.25em;box-sizing: border-box;margin-bottom: 0.5em;}#sk-container-id-1 div.sk-estimator:hover {background-color: #d4ebff;}#sk-container-id-1 div.sk-parallel-item::after {content: \"\";width: 100%;border-bottom: 1px solid gray;flex-grow: 1;}#sk-container-id-1 div.sk-label:hover label.sk-toggleable__label {background-color: #d4ebff;}#sk-container-id-1 div.sk-serial::before {content: \"\";position: absolute;border-left: 1px solid gray;box-sizing: border-box;top: 0;bottom: 0;left: 50%;z-index: 0;}#sk-container-id-1 div.sk-serial {display: flex;flex-direction: column;align-items: center;background-color: white;padding-right: 0.2em;padding-left: 0.2em;position: relative;}#sk-container-id-1 div.sk-item {position: relative;z-index: 1;}#sk-container-id-1 div.sk-parallel {display: flex;align-items: stretch;justify-content: center;background-color: white;position: relative;}#sk-container-id-1 div.sk-item::before, #sk-container-id-1 div.sk-parallel-item::before {content: \"\";position: absolute;border-left: 1px solid gray;box-sizing: border-box;top: 0;bottom: 0;left: 50%;z-index: -1;}#sk-container-id-1 div.sk-parallel-item {display: flex;flex-direction: column;z-index: 1;position: relative;background-color: white;}#sk-container-id-1 div.sk-parallel-item:first-child::after {align-self: flex-end;width: 50%;}#sk-container-id-1 div.sk-parallel-item:last-child::after {align-self: flex-start;width: 50%;}#sk-container-id-1 div.sk-parallel-item:only-child::after {width: 0;}#sk-container-id-1 div.sk-dashed-wrapped {border: 1px dashed gray;margin: 0 0.4em 0.5em 0.4em;box-sizing: border-box;padding-bottom: 0.4em;background-color: white;}#sk-container-id-1 div.sk-label label {font-family: monospace;font-weight: bold;display: inline-block;line-height: 1.2em;}#sk-container-id-1 div.sk-label-container {text-align: center;}#sk-container-id-1 div.sk-container {/* jupyter's `normalize.less` sets `[hidden] { display: none; }` but bootstrap.min.css set `[hidden] { display: none !important; }` so we also need the `!important` here to be able to override the default hidden behavior on the sphinx rendered scikit-learn.org. See: https://github.com/scikit-learn/scikit-learn/issues/21755 */display: inline-block !important;position: relative;}#sk-container-id-1 div.sk-text-repr-fallback {display: none;}</style><div id=\"sk-container-id-1\" class=\"sk-top-container\"><div class=\"sk-text-repr-fallback\"><pre>StandardScaler()</pre><b>In a Jupyter environment, please rerun this cell to show the HTML representation or trust the notebook. <br />On GitHub, the HTML representation is unable to render, please try loading this page with nbviewer.org.</b></div><div class=\"sk-container\" hidden><div class=\"sk-item\"><div class=\"sk-estimator sk-toggleable\"><input class=\"sk-toggleable__control sk-hidden--visually\" id=\"sk-estimator-id-1\" type=\"checkbox\" checked><label for=\"sk-estimator-id-1\" class=\"sk-toggleable__label sk-toggleable__label-arrow\">StandardScaler</label><div class=\"sk-toggleable__content\"><pre>StandardScaler()</pre></div></div></div></div></div>"
            ]
          },
          "metadata": {},
          "execution_count": 64
        }
      ],
      "source": [
        "scaler.fit(X)\n"
      ]
    },
    {
      "cell_type": "code",
      "execution_count": 65,
      "metadata": {
        "id": "RNHjLUYv4OQ3"
      },
      "outputs": [],
      "source": [
        "standarized_data = scaler.transform(X)\n"
      ]
    },
    {
      "cell_type": "code",
      "execution_count": 67,
      "metadata": {
        "colab": {
          "base_uri": "https://localhost:8080/"
        },
        "id": "oL_VB2qH4Ta-",
        "outputId": "3d291b9f-9b66-4a6b-9002-3d4a65d17948"
      },
      "outputs": [
        {
          "output_type": "stream",
          "name": "stdout",
          "text": [
            "[[-4.80021225  4.29483906  0.27285297 ...  0.51141424  0.47564091\n",
            "   0.7433879 ]\n",
            " [-4.80021225  4.29432081  0.27285297 ...  0.51141424  0.47564091\n",
            "   0.7433879 ]\n",
            " [-4.70099822 -0.36421737  0.27285297 ...  0.51141424  0.47564091\n",
            "   0.7433879 ]\n",
            " ...\n",
            " [ 1.2022364  -0.06000534 -4.40667753 ...  0.51141424  0.47564091\n",
            "   0.7433879 ]\n",
            " [ 1.2022364  -0.36007138  0.27285297 ... -1.53449674  0.47564091\n",
            "  -0.26331249]\n",
            " [ 1.2022364  -0.12115869  0.27285297 ...  0.51141424  0.47564091\n",
            "   0.7433879 ]]\n"
          ]
        }
      ],
      "source": [
        "print(standarized_data)"
      ]
    },
    {
      "cell_type": "code",
      "execution_count": 69,
      "metadata": {
        "id": "ftp9ue5-4XTN"
      },
      "outputs": [],
      "source": [
        "X = disasters_dataset.drop(columns='CPI')\n",
        "Y = disasters_dataset['CPI']\n",
        "X = scaler.fit_transform(X)\n"
      ]
    },
    {
      "cell_type": "code",
      "execution_count": 70,
      "metadata": {
        "colab": {
          "base_uri": "https://localhost:8080/"
        },
        "id": "ZNGY8yhN4fNg",
        "outputId": "fa121d1c-511c-4b7b-d7a4-405946953d74"
      },
      "outputs": [
        {
          "output_type": "stream",
          "name": "stdout",
          "text": [
            "[[-4.80021225  4.29483906  0.27285297 ...  0.51141424  0.47564091\n",
            "   0.7433879 ]\n",
            " [-4.80021225  4.29432081  0.27285297 ...  0.51141424  0.47564091\n",
            "   0.7433879 ]\n",
            " [-4.70099822 -0.36421737  0.27285297 ...  0.51141424  0.47564091\n",
            "   0.7433879 ]\n",
            " ...\n",
            " [ 1.2022364  -0.06000534 -4.40667753 ...  0.51141424  0.47564091\n",
            "   0.7433879 ]\n",
            " [ 1.2022364  -0.36007138  0.27285297 ... -1.53449674  0.47564091\n",
            "  -0.26331249]\n",
            " [ 1.2022364  -0.12115869  0.27285297 ...  0.51141424  0.47564091\n",
            "   0.7433879 ]]\n",
            "0        3.221647\n",
            "1        3.221647\n",
            "2        3.350513\n",
            "3        3.350513\n",
            "4        3.350513\n",
            "           ...   \n",
            "16121         NaN\n",
            "16122         NaN\n",
            "16123         NaN\n",
            "16124         NaN\n",
            "16125         NaN\n",
            "Name: CPI, Length: 16126, dtype: float64\n"
          ]
        }
      ],
      "source": [
        "print(X)\n",
        "print(Y)\n"
      ]
    },
    {
      "cell_type": "code",
      "execution_count": 71,
      "metadata": {
        "id": "AEfKGj_yslvD"
      },
      "outputs": [],
      "source": [
        "# Train-test split for SVM\n",
        "X_train, X_test, Y_train, Y_test = train_test_split(X, Y, test_size=0.2, random_state=2)\n"
      ]
    },
    {
      "cell_type": "code",
      "execution_count": 72,
      "metadata": {
        "colab": {
          "base_uri": "https://localhost:8080/"
        },
        "id": "8AWE1-ak5dEn",
        "outputId": "66d64a7b-64cf-48c1-dacb-441f8efafd3a"
      },
      "outputs": [
        {
          "output_type": "stream",
          "name": "stdout",
          "text": [
            "(16126, 44) (12900, 44) (3226, 44)\n"
          ]
        }
      ],
      "source": [
        "print(X.shape, X_train.shape, X_test.shape)\n"
      ]
    },
    {
      "cell_type": "code",
      "source": [
        "#replace missing values\n",
        "imputer = SimpleImputer(missing_values=np.nan, strategy='mean')\n",
        "X_train = imputer.fit_transform(X_train)\n",
        "X_test = imputer.transform(X_test)\n"
      ],
      "metadata": {
        "id": "lOKl7R3AmPke"
      },
      "execution_count": 76,
      "outputs": []
    },
    {
      "cell_type": "code",
      "execution_count": 88,
      "metadata": {
        "id": "ycWEH5Sn5n97"
      },
      "outputs": [],
      "source": [
        "# SVM Model\n",
        "classifier = svm.SVR(kernel='linear')"
      ]
    },
    {
      "cell_type": "code",
      "source": [
        "# Ensure there are no NaN values in the training data\n",
        "print(f\"NaNs in X_train: {np.isnan(X_train).sum()}\")\n",
        "print(f\"NaNs in Y_train: {np.isnan(Y_train).sum()}\")"
      ],
      "metadata": {
        "colab": {
          "base_uri": "https://localhost:8080/"
        },
        "id": "_EEvf_xEnF60",
        "outputId": "13d6890e-7277-41d3-e4a4-96a8e69993a2"
      },
      "execution_count": 80,
      "outputs": [
        {
          "output_type": "stream",
          "name": "stdout",
          "text": [
            "NaNs in X_train: 0\n",
            "NaNs in Y_train: 255\n"
          ]
        }
      ]
    },
    {
      "cell_type": "code",
      "source": [
        "# Impute the missing values in Y_train\n",
        "Y_train = imputer.transform(Y_train)"
      ],
      "metadata": {
        "id": "a7Onlai9nPF3"
      },
      "execution_count": 86,
      "outputs": []
    },
    {
      "cell_type": "code",
      "execution_count": 98,
      "metadata": {
        "id": "QLELfSpi5_AH",
        "colab": {
          "base_uri": "https://localhost:8080/"
        },
        "outputId": "1526d477-d71a-4225-c3c3-0cfe9decc894"
      },
      "outputs": [
        {
          "output_type": "stream",
          "name": "stderr",
          "text": [
            "/usr/local/lib/python3.10/dist-packages/sklearn/utils/validation.py:1143: DataConversionWarning:\n",
            "\n",
            "A column-vector y was passed when a 1d array was expected. Please change the shape of y to (n_samples, ), for example using ravel().\n",
            "\n"
          ]
        }
      ],
      "source": [
        "# Train the classifier\n",
        "classifier.fit(X_train, Y_train)\n",
        "\n",
        "# Predict the labels for the training data\n",
        "X_train_prediction = classifier.predict(X_train)\n",
        "\n",
        "# Calculate the Mean Squared Error\n",
        "mse = mean_squared_error(Y_train, X_train_prediction)\n",
        "\n"
      ]
    },
    {
      "cell_type": "code",
      "execution_count": 97,
      "metadata": {
        "colab": {
          "base_uri": "https://localhost:8080/"
        },
        "id": "bm1X21yU8HlK",
        "outputId": "0cda864c-5916-4bf6-a318-3cbb95b16a7d"
      },
      "outputs": [
        {
          "output_type": "stream",
          "name": "stdout",
          "text": [
            "Mean Squared Error: 150.45152423345698\n"
          ]
        }
      ],
      "source": [
        "print(f\"Mean Squared Error: {mse}\")\n"
      ]
    },
    {
      "cell_type": "code",
      "execution_count": 101,
      "metadata": {
        "colab": {
          "base_uri": "https://localhost:8080/"
        },
        "id": "TmztKlCZ8NvG",
        "outputId": "9a1801bd-9e5f-497e-e6f8-85f58e72498e"
      },
      "outputs": [
        {
          "output_type": "stream",
          "name": "stdout",
          "text": [
            "[61.9547768]\n",
            "The natural disaster is likely to occur.\n"
          ]
        }
      ],
      "source": [
        "\n",
        "input_data = (5, 166, 80, 19, 175, 25.8, 0.587, 51)\n",
        "\n",
        "# Check the number of features in the training data\n",
        "num_features_train = X_train.shape[1]\n",
        "\n",
        "# Create a copy of the input data\n",
        "input_data_with_extra_features = copy.deepcopy(input_data)\n",
        "\n",
        "# Add dummy features to the input data\n",
        "input_data_with_extra_features = list(input_data) + [0] * (num_features_train - len(input_data))\n",
        "\n",
        "# Reshape the input data\n",
        "input_data_reshaped = np.asarray(input_data_with_extra_features).reshape(1, -1)\n",
        "\n",
        "# Create a new StandardScaler object\n",
        "new_scaler = StandardScaler()\n",
        "\n",
        "# Fit the new_scaler object on the input data\n",
        "new_scaler.fit(input_data_reshaped)\n",
        "\n",
        "# Standardize the input data using the new StandardScaler object\n",
        "std_data = new_scaler.transform(input_data_reshaped)\n",
        "\n",
        "prediction = classifier.predict(std_data)\n",
        "print(prediction)\n",
        "\n",
        "# Interpret the prediction\n",
        "if (prediction[0] == 0):\n",
        "    print('The natural disaster is unlikely to occur.')\n",
        "else:\n",
        "    print('The natural disaster is likely to occur.')\n"
      ]
    }
  ],
  "metadata": {
    "colab": {
      "provenance": [],
      "authorship_tag": "ABX9TyPIg3Y4dZv6TSJ8bJT4tMr7",
      "include_colab_link": true
    },
    "kernelspec": {
      "display_name": "Python 3",
      "name": "python3"
    },
    "language_info": {
      "name": "python"
    }
  },
  "nbformat": 4,
  "nbformat_minor": 0
}